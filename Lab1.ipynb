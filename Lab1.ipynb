{
 "cells": [
  {
   "cell_type": "code",
   "execution_count": 3,
   "id": "72da1c54-0ae3-4d70-b719-68e97bb20060",
   "metadata": {},
   "outputs": [],
   "source": [
    "import numpy as np"
   ]
  },
  {
   "cell_type": "code",
   "execution_count": 4,
   "id": "c6afb4da-954f-4dd5-bad6-6eaa0ab9e27b",
   "metadata": {},
   "outputs": [
    {
     "name": "stdout",
     "output_type": "stream",
     "text": [
      "[3 4 5 6 7]\n"
     ]
    }
   ],
   "source": [
    "nums=np.array([1,2,3,4,5])\n",
    "num=nums+2\n",
    "print(num)"
   ]
  },
  {
   "cell_type": "code",
   "execution_count": 5,
   "id": "74e2c1c6-e904-4e55-ad17-378bd7e109fa",
   "metadata": {},
   "outputs": [
    {
     "name": "stdout",
     "output_type": "stream",
     "text": [
      "[[ 1  4  9]\n",
      " [16 64 81]\n",
      " [36 16  9]]\n"
     ]
    }
   ],
   "source": [
    "num2=np.array([[1,2,3],[4,8,9],[6,4,3]])\n",
    "num3=np.array([[1,2,3],[4,8,9],[6,4,3]])\n",
    "num4=num2*num3\n",
    "print(num4)"
   ]
  },
  {
   "cell_type": "code",
   "execution_count": 6,
   "id": "43d4b9f2-a919-4a5c-81ba-e7e86f0fffcd",
   "metadata": {},
   "outputs": [
    {
     "name": "stdout",
     "output_type": "stream",
     "text": [
      "[ 1  2  3  4  5  6  7  8  9 10 11 12 13 14 15 16 17 18 19]\n"
     ]
    }
   ],
   "source": [
    "n=np.arange(1,20)\n",
    "print (n)"
   ]
  },
  {
   "cell_type": "code",
   "execution_count": 7,
   "id": "b1f73d83-3c18-4071-b029-9e2235e7108f",
   "metadata": {},
   "outputs": [
    {
     "name": "stdout",
     "output_type": "stream",
     "text": [
      "[[0. 0. 0. 0. 0. 0. 0. 0. 0. 0.]\n",
      " [0. 0. 0. 0. 0. 0. 0. 0. 0. 0.]\n",
      " [0. 0. 0. 0. 0. 0. 0. 0. 0. 0.]\n",
      " [0. 0. 0. 0. 0. 0. 0. 0. 0. 0.]\n",
      " [0. 0. 0. 0. 0. 0. 0. 0. 0. 0.]\n",
      " [0. 0. 0. 0. 0. 0. 0. 0. 0. 0.]\n",
      " [0. 0. 0. 0. 0. 0. 0. 0. 0. 0.]\n",
      " [0. 0. 0. 0. 0. 0. 0. 0. 0. 0.]\n",
      " [0. 0. 0. 0. 0. 0. 0. 0. 0. 0.]\n",
      " [0. 0. 0. 0. 0. 0. 0. 0. 0. 0.]]\n"
     ]
    }
   ],
   "source": [
    "zeros=np.zeros((10,10))\n",
    "print(zeros)"
   ]
  },
  {
   "cell_type": "code",
   "execution_count": 8,
   "id": "17f42938-1f61-4149-a1e0-bd88e4e21958",
   "metadata": {},
   "outputs": [
    {
     "name": "stdout",
     "output_type": "stream",
     "text": [
      "[[1. 1. 1. 1. 1. 1. 1. 1. 1. 1.]\n",
      " [1. 1. 1. 1. 1. 1. 1. 1. 1. 1.]\n",
      " [1. 1. 1. 1. 1. 1. 1. 1. 1. 1.]\n",
      " [1. 1. 1. 1. 1. 1. 1. 1. 1. 1.]\n",
      " [1. 1. 1. 1. 1. 1. 1. 1. 1. 1.]\n",
      " [1. 1. 1. 1. 1. 1. 1. 1. 1. 1.]\n",
      " [1. 1. 1. 1. 1. 1. 1. 1. 1. 1.]\n",
      " [1. 1. 1. 1. 1. 1. 1. 1. 1. 1.]\n",
      " [1. 1. 1. 1. 1. 1. 1. 1. 1. 1.]\n",
      " [1. 1. 1. 1. 1. 1. 1. 1. 1. 1.]]\n"
     ]
    }
   ],
   "source": [
    "o=np.ones((10,10))\n",
    "print(o)"
   ]
  },
  {
   "cell_type": "code",
   "execution_count": 9,
   "id": "6708116c-719a-49c2-9375-c0643b172de6",
   "metadata": {},
   "outputs": [
    {
     "name": "stdout",
     "output_type": "stream",
     "text": [
      "[[1. 0. 0. 0.]\n",
      " [0. 1. 0. 0.]\n",
      " [0. 0. 1. 0.]\n",
      " [0. 0. 0. 1.]]\n"
     ]
    }
   ],
   "source": [
    "idp=np.eye(4)\n",
    "print(idp)"
   ]
  },
  {
   "cell_type": "code",
   "execution_count": 10,
   "id": "770de6fc-ac81-49d5-b1ed-eccc94ee4f11",
   "metadata": {},
   "outputs": [
    {
     "name": "stdout",
     "output_type": "stream",
     "text": [
      "[ 1.          1.64285714  2.28571429  2.92857143  3.57142857  4.21428571\n",
      "  4.85714286  5.5         6.14285714  6.78571429  7.42857143  8.07142857\n",
      "  8.71428571  9.35714286 10.        ]\n"
     ]
    }
   ],
   "source": [
    "lin=np.linspace(1,10,15)\n",
    "print(lin)"
   ]
  },
  {
   "cell_type": "code",
   "execution_count": 11,
   "id": "56c824d5-151f-4393-99f2-444f0204d491",
   "metadata": {},
   "outputs": [
    {
     "name": "stdout",
     "output_type": "stream",
     "text": [
      "[[0.36949789 0.66398135 0.80507458]\n",
      " [0.03463149 0.11969225 0.63850481]]\n"
     ]
    }
   ],
   "source": [
    "r=np.random.rand(2,3)\n",
    "print(r)"
   ]
  },
  {
   "cell_type": "code",
   "execution_count": 12,
   "id": "198814d5-31ab-4409-8e7a-98815d028157",
   "metadata": {},
   "outputs": [
    {
     "name": "stdout",
     "output_type": "stream",
     "text": [
      "[91 56 54 64 97]\n"
     ]
    }
   ],
   "source": [
    "r1=np.random.randint(50,100,5)\n",
    "print(r1)"
   ]
  },
  {
   "cell_type": "code",
   "execution_count": 13,
   "id": "52e5207b-388c-40ed-978d-8d3c027a2316",
   "metadata": {},
   "outputs": [
    {
     "name": "stdout",
     "output_type": "stream",
     "text": [
      "[[ 1  2  3  4]\n",
      " [ 5  6  7  8]\n",
      " [ 9 10 11 12]\n",
      " [13 14 15 16]]\n"
     ]
    }
   ],
   "source": [
    "n=np.arange(1,17)\n",
    "n1=n.reshape(4,4)\n",
    "print (n1)"
   ]
  },
  {
   "cell_type": "code",
   "execution_count": 14,
   "id": "4cf02f33-07ef-4aad-ae6f-b0634ea3d607",
   "metadata": {},
   "outputs": [
    {
     "name": "stdout",
     "output_type": "stream",
     "text": [
      "[1 2 3 4 8 9 6 4 3]\n"
     ]
    }
   ],
   "source": [
    "nu1=np.array([[1,2,3],[4,8,9],[6,4,3]])\n",
    "nx=nu1.flatten()\n",
    "print (nx)"
   ]
  },
  {
   "cell_type": "code",
   "execution_count": 15,
   "id": "5503dfb0-3b79-470d-ba97-5bcb286aeb30",
   "metadata": {},
   "outputs": [
    {
     "name": "stdout",
     "output_type": "stream",
     "text": [
      "29\n",
      "68\n",
      "2\n"
     ]
    }
   ],
   "source": [
    "rx= np.random.randint(5,100,5)\n",
    "xmin = rx.min()\n",
    "xmax=rx.max()\n",
    "xar=rx.argmax()\n",
    "print(xmin)\n",
    "print(xmax)\n",
    "print(xar)"
   ]
  },
  {
   "cell_type": "code",
   "execution_count": 16,
   "id": "7ccdea93-6027-48f8-bbab-07d477257439",
   "metadata": {},
   "outputs": [
    {
     "name": "stdout",
     "output_type": "stream",
     "text": [
      "[1 2 3 4 5]\n"
     ]
    }
   ],
   "source": [
    "nums2=nums[0:5]\n",
    "print(nums2)"
   ]
  },
  {
   "cell_type": "code",
   "execution_count": 17,
   "id": "00c1ec2c-0e41-4126-96b0-8f533948cddc",
   "metadata": {},
   "outputs": [
    {
     "name": "stdout",
     "output_type": "stream",
     "text": [
      "[[1 2 3]\n",
      " [4 5 6]\n",
      " [7 8 9]]\n",
      "\n",
      "\n",
      "[1 2 3 4 5 6 7 8 9]\n",
      "\n",
      "\n",
      "[[1 2]\n",
      " [4 5]\n",
      " [7 8]]\n"
     ]
    }
   ],
   "source": [
    "nums2d=np.array(([1,2,3],[4,5,6],[7,8,9]))\n",
    "print(nums2d)\n",
    "print(\"\\n\")\n",
    "print(nums2d.flatten())\n",
    "print(\"\\n\")\n",
    "print(nums2d[:3,:2])"
   ]
  },
  {
   "cell_type": "code",
   "execution_count": 38,
   "id": "0adf20e6-5836-4db3-ac62-05f4a5a5b2ec",
   "metadata": {},
   "outputs": [
    {
     "name": "stdout",
     "output_type": "stream",
     "text": [
      "[[1. 0. 0. 0. 0. 0. 0. 0.]\n",
      " [0. 1. 0. 0. 0. 0. 0. 0.]\n",
      " [0. 0. 1. 0. 0. 0. 0. 0.]\n",
      " [0. 0. 0. 1. 0. 0. 0. 0.]\n",
      " [0. 0. 0. 0. 1. 0. 0. 0.]\n",
      " [0. 0. 0. 0. 0. 1. 0. 0.]\n",
      " [0. 0. 0. 0. 0. 0. 1. 0.]\n",
      " [0. 0. 0. 0. 0. 0. 0. 1.]]\n",
      "\n",
      "\n",
      "[1. 0. 0. 0. 0. 0. 0. 0. 0. 1. 0. 0. 0. 0. 0. 0. 0. 0. 1. 0. 0. 0. 0. 0.\n",
      " 0. 0. 0. 1. 0. 0. 0. 0. 0. 0. 0. 0. 1. 0. 0. 0. 0. 0. 0. 0. 0. 1. 0. 0.\n",
      " 0. 0. 0. 0. 0. 0. 1. 0. 0. 0. 0. 0. 0. 0. 0. 1.]\n",
      "\n",
      "\n",
      "[[1. 0. 0. 0.]\n",
      " [0. 0. 0. 0.]\n",
      " [0. 1. 0. 0.]\n",
      " [0. 0. 0. 0.]\n",
      " [0. 0. 1. 0.]\n",
      " [0. 0. 0. 0.]\n",
      " [0. 0. 0. 1.]\n",
      " [0. 0. 0. 0.]\n",
      " [0. 0. 0. 0.]\n",
      " [1. 0. 0. 0.]\n",
      " [0. 0. 0. 0.]\n",
      " [0. 1. 0. 0.]\n",
      " [0. 0. 0. 0.]\n",
      " [0. 0. 1. 0.]\n",
      " [0. 0. 0. 0.]\n",
      " [0. 0. 0. 1.]]\n"
     ]
    }
   ],
   "source": [
    "idp= np.eye(8)\n",
    "print(idp)\n",
    "print(\"\\n\")\n",
    "print(idp.flatten())\n",
    "print(\"\\n\")\n",
    "print(idp.reshape(16,4))"
   ]
  },
  {
   "cell_type": "code",
   "execution_count": 46,
   "id": "094a6fc2-4720-42dc-97ff-5f8ddad77f58",
   "metadata": {},
   "outputs": [
    {
     "name": "stdout",
     "output_type": "stream",
     "text": [
      "[64 59 94 81  7  2 45 69 73 70]\n",
      "94\n",
      "2\n"
     ]
    }
   ],
   "source": [
    "rx= np.random.randint(1,100,10)\n",
    "print(rx)\n",
    "xmax=rx.max()\n",
    "xar=rx.argmax()\n",
    "\n",
    "print(xmax)\n",
    "print(xar)"
   ]
  },
  {
   "cell_type": "code",
   "execution_count": null,
   "id": "165919c4-310e-4b23-89f3-8568f6bcd653",
   "metadata": {},
   "outputs": [],
   "source": []
  }
 ],
 "metadata": {
  "kernelspec": {
   "display_name": "Python 3 (ipykernel)",
   "language": "python",
   "name": "python3"
  },
  "language_info": {
   "codemirror_mode": {
    "name": "ipython",
    "version": 3
   },
   "file_extension": ".py",
   "mimetype": "text/x-python",
   "name": "python",
   "nbconvert_exporter": "python",
   "pygments_lexer": "ipython3",
   "version": "3.12.4"
  }
 },
 "nbformat": 4,
 "nbformat_minor": 5
}
