{
 "cells": [
  {
   "cell_type": "code",
   "execution_count": 7,
   "id": "aea4b17d-ff5a-485a-b1dc-9eed690a692a",
   "metadata": {},
   "outputs": [
    {
     "name": "stdout",
     "output_type": "stream",
     "text": [
      "   Unnamed: 0 species     island  bill_length_mm  bill_depth_mm  \\\n",
      "0           1  Adelie  Torgersen            39.1           18.7   \n",
      "1           2  Adelie  Torgersen            39.5           17.4   \n",
      "2           3  Adelie  Torgersen            40.3           18.0   \n",
      "3           4  Adelie  Torgersen             NaN            NaN   \n",
      "4           5  Adelie  Torgersen            36.7           19.3   \n",
      "\n",
      "   flipper_length_mm  body_mass_g     sex  year  \n",
      "0              181.0       3750.0    male  2007  \n",
      "1              186.0       3800.0  female  2007  \n",
      "2              195.0       3250.0  female  2007  \n",
      "3                NaN          NaN     NaN  2007  \n",
      "4              193.0       3450.0  female  2007  \n"
     ]
    }
   ],
   "source": [
    "import pandas as pd\n",
    "penguins = pd.read_csv('penguins.csv')\n",
    "print(penguins.head())"
   ]
  },
  {
   "cell_type": "code",
   "execution_count": 4,
   "id": "5119df3f-d959-4647-9c57-c0fedf1af5cc",
   "metadata": {},
   "outputs": [],
   "source": [
    "from sklearn.model_selection import train_test_split\n",
    "from sklearn.preprocessing import LabelEncoder\n",
    "from sklearn.neighbors import KNeighborsClassifier\n",
    "from sklearn.metrics import accuracy_score\n",
    "\n",
    "penguins = penguins.dropna()\n",
    "\n",
    "label_encoders = {}\n",
    "for column in ['species', 'island', 'sex']:\n",
    "    le = LabelEncoder()\n",
    "    penguins[column] = le.fit_transform(penguins[column])\n",
    "    label_encoders[column] = le\n",
    "\n",
    "X = penguins.drop('species', axis=1)\n",
    "y = penguins['species']\n",
    "\n"
   ]
  },
  {
   "cell_type": "code",
   "execution_count": 5,
   "id": "4f5cc327-cdf6-4eac-8848-ed7644b40eaf",
   "metadata": {},
   "outputs": [],
   "source": [
    "def evaluate_knn(X, y, k_values, train_sizes):\n",
    "    results = []\n",
    "    for train_size in train_sizes:\n",
    "        X_train, X_test, y_train, y_test = train_test_split(X, y, train_size=train_size, random_state=42)\n",
    "        for k in k_values:\n",
    "            knn = KNeighborsClassifier(n_neighbors=k)\n",
    "            knn.fit(X_train, y_train)\n",
    "            y_pred = knn.predict(X_test)\n",
    "            accuracy = accuracy_score(y_test, y_pred)\n",
    "            results.append((train_size, k, accuracy))\n",
    "    return results"
   ]
  },
  {
   "cell_type": "code",
   "execution_count": 8,
   "id": "1416a4e9-0609-4351-ac76-9cf316317d4e",
   "metadata": {},
   "outputs": [
    {
     "name": "stdout",
     "output_type": "stream",
     "text": [
      "Training Size: 25.0%, k: 5, Accuracy: 0.69\n",
      "Training Size: 25.0%, k: 7, Accuracy: 0.70\n",
      "Training Size: 25.0%, k: 9, Accuracy: 0.73\n",
      "Training Size: 30.0%, k: 5, Accuracy: 0.72\n",
      "Training Size: 30.0%, k: 7, Accuracy: 0.75\n",
      "Training Size: 30.0%, k: 9, Accuracy: 0.74\n"
     ]
    }
   ],
   "source": [
    "k_values = [5, 7, 9]\n",
    "train_sizes = [0.25, 0.30]\n",
    "\n",
    "results = evaluate_knn(X, y, k_values, train_sizes)\n",
    "\n",
    "for result in results:\n",
    "    train_size, k, accuracy = result\n",
    "    print(f\"Training Size: {train_size*100}%, k: {k}, Accuracy: {accuracy:.2f}\")\n",
    "\n"
   ]
  }
 ],
 "metadata": {
  "kernelspec": {
   "display_name": "Python 3 (ipykernel)",
   "language": "python",
   "name": "python3"
  },
  "language_info": {
   "codemirror_mode": {
    "name": "ipython",
    "version": 3
   },
   "file_extension": ".py",
   "mimetype": "text/x-python",
   "name": "python",
   "nbconvert_exporter": "python",
   "pygments_lexer": "ipython3",
   "version": "3.12.4"
  }
 },
 "nbformat": 4,
 "nbformat_minor": 5
}
