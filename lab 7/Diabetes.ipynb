{
 "cells": [
  {
   "cell_type": "code",
   "execution_count": 45,
   "id": "374b85e5-5b64-4243-a92a-fadcd737e3aa",
   "metadata": {},
   "outputs": [],
   "source": [
    "import pandas as pd\n",
    "import numpy as np\n",
    "from sklearn import linear_model\n",
    "import matplotlib.pyplot as plt\n",
    "from sklearn.svm import SVC"
   ]
  },
  {
   "cell_type": "code",
   "execution_count": 46,
   "id": "bbe8c7ff-c2a6-477b-b74b-9bbdc1a31c1f",
   "metadata": {},
   "outputs": [
    {
     "data": {
      "text/html": [
       "<div>\n",
       "<style scoped>\n",
       "    .dataframe tbody tr th:only-of-type {\n",
       "        vertical-align: middle;\n",
       "    }\n",
       "\n",
       "    .dataframe tbody tr th {\n",
       "        vertical-align: top;\n",
       "    }\n",
       "\n",
       "    .dataframe thead th {\n",
       "        text-align: right;\n",
       "    }\n",
       "</style>\n",
       "<table border=\"1\" class=\"dataframe\">\n",
       "  <thead>\n",
       "    <tr style=\"text-align: right;\">\n",
       "      <th></th>\n",
       "      <th>Pregnancies</th>\n",
       "      <th>Glucose</th>\n",
       "      <th>BloodPressure</th>\n",
       "      <th>SkinThickness</th>\n",
       "      <th>Insulin</th>\n",
       "      <th>BMI</th>\n",
       "      <th>DiabetesPedigreeFunction</th>\n",
       "      <th>Age</th>\n",
       "      <th>Outcome</th>\n",
       "    </tr>\n",
       "  </thead>\n",
       "  <tbody>\n",
       "    <tr>\n",
       "      <th>0</th>\n",
       "      <td>6</td>\n",
       "      <td>148</td>\n",
       "      <td>72</td>\n",
       "      <td>35</td>\n",
       "      <td>0</td>\n",
       "      <td>33.6</td>\n",
       "      <td>0.627</td>\n",
       "      <td>50</td>\n",
       "      <td>1</td>\n",
       "    </tr>\n",
       "    <tr>\n",
       "      <th>1</th>\n",
       "      <td>1</td>\n",
       "      <td>85</td>\n",
       "      <td>66</td>\n",
       "      <td>29</td>\n",
       "      <td>0</td>\n",
       "      <td>26.6</td>\n",
       "      <td>0.351</td>\n",
       "      <td>31</td>\n",
       "      <td>0</td>\n",
       "    </tr>\n",
       "    <tr>\n",
       "      <th>2</th>\n",
       "      <td>8</td>\n",
       "      <td>183</td>\n",
       "      <td>64</td>\n",
       "      <td>0</td>\n",
       "      <td>0</td>\n",
       "      <td>23.3</td>\n",
       "      <td>0.672</td>\n",
       "      <td>32</td>\n",
       "      <td>1</td>\n",
       "    </tr>\n",
       "    <tr>\n",
       "      <th>3</th>\n",
       "      <td>1</td>\n",
       "      <td>89</td>\n",
       "      <td>66</td>\n",
       "      <td>23</td>\n",
       "      <td>94</td>\n",
       "      <td>28.1</td>\n",
       "      <td>0.167</td>\n",
       "      <td>21</td>\n",
       "      <td>0</td>\n",
       "    </tr>\n",
       "    <tr>\n",
       "      <th>4</th>\n",
       "      <td>0</td>\n",
       "      <td>137</td>\n",
       "      <td>40</td>\n",
       "      <td>35</td>\n",
       "      <td>168</td>\n",
       "      <td>43.1</td>\n",
       "      <td>2.288</td>\n",
       "      <td>33</td>\n",
       "      <td>1</td>\n",
       "    </tr>\n",
       "  </tbody>\n",
       "</table>\n",
       "</div>"
      ],
      "text/plain": [
       "   Pregnancies  Glucose  BloodPressure  SkinThickness  Insulin   BMI  \\\n",
       "0            6      148             72             35        0  33.6   \n",
       "1            1       85             66             29        0  26.6   \n",
       "2            8      183             64              0        0  23.3   \n",
       "3            1       89             66             23       94  28.1   \n",
       "4            0      137             40             35      168  43.1   \n",
       "\n",
       "   DiabetesPedigreeFunction  Age  Outcome  \n",
       "0                     0.627   50        1  \n",
       "1                     0.351   31        0  \n",
       "2                     0.672   32        1  \n",
       "3                     0.167   21        0  \n",
       "4                     2.288   33        1  "
      ]
     },
     "execution_count": 46,
     "metadata": {},
     "output_type": "execute_result"
    }
   ],
   "source": [
    "df = pd.read_csv(\"diabetes.csv\")\n",
    "df.head()"
   ]
  },
  {
   "cell_type": "code",
   "execution_count": 47,
   "id": "b35948d8-d572-4faa-bbfa-4d259bad2cda",
   "metadata": {},
   "outputs": [
    {
     "data": {
      "text/plain": [
       "Pregnancies                 0\n",
       "Glucose                     0\n",
       "BloodPressure               0\n",
       "SkinThickness               0\n",
       "Insulin                     0\n",
       "BMI                         0\n",
       "DiabetesPedigreeFunction    0\n",
       "Age                         0\n",
       "Outcome                     0\n",
       "dtype: int64"
      ]
     },
     "execution_count": 47,
     "metadata": {},
     "output_type": "execute_result"
    }
   ],
   "source": [
    "df.isna().sum()"
   ]
  },
  {
   "cell_type": "code",
   "execution_count": 48,
   "id": "d9a4c454-d43e-48ff-a116-b54620ddb2c0",
   "metadata": {},
   "outputs": [],
   "source": [
    "X = df.drop('Outcome', axis=1)\n",
    "y = df['Outcome']"
   ]
  },
  {
   "cell_type": "markdown",
   "id": "97a36a1d-8101-4674-a23b-df2e29b26049",
   "metadata": {},
   "source": [
    "## SVM model"
   ]
  },
  {
   "cell_type": "code",
   "execution_count": 49,
   "id": "c563e243-f3bb-4012-96fd-4e6aa638c0d9",
   "metadata": {},
   "outputs": [],
   "source": [
    "from sklearn.svm import SVC\n",
    "from sklearn.metrics import accuracy_score, precision_score\n",
    "def evaluation(types, train_sizes):\n",
    "    for train in train_sizes:\n",
    "        for type in types:\n",
    "            X_train, X_test, y_train, y_test = train_test_split(X, y, train_size=train, random_state=42)\n",
    "            model = SVC(kernel=type, random_state=1)\n",
    "            model.fit(X_train, y_train)\n",
    "            y_pred = model.predict(X_test)\n",
    "            accuracy = accuracy_score(y_test, y_pred)\n",
    "            precision = precision_score(y_test, y_pred)\n",
    "            print(f\"Training Size: {train*100}% with model: {type} gives Accuracy: {accuracy*100} % and Precision: {precision*100} %\")"
   ]
  },
  {
   "cell_type": "code",
   "execution_count": 50,
   "id": "85e5d466-e2ef-4d57-a4a7-4585f9eba9b8",
   "metadata": {
    "scrolled": true
   },
   "outputs": [
    {
     "name": "stdout",
     "output_type": "stream",
     "text": [
      "Training Size: 25.0% with model: rbf gives Accuracy: 74.65277777777779 % and Precision: 70.86614173228347 %\n",
      "Training Size: 25.0% with model: linear gives Accuracy: 78.64583333333334 % and Precision: 73.17073170731707 %\n",
      "Training Size: 30.0% with model: rbf gives Accuracy: 74.90706319702602 % and Precision: 77.55102040816327 %\n",
      "Training Size: 30.0% with model: linear gives Accuracy: 77.69516728624535 % and Precision: 70.9090909090909 %\n"
     ]
    }
   ],
   "source": [
    "train_sizes = [0.25, 0.30]\n",
    "types = [\"rbf\", \"linear\"]\n",
    "evaluation(types, train_sizes)"
   ]
  },
  {
   "cell_type": "markdown",
   "id": "2f30cfa4-b172-44c1-baa1-cff86aee0e96",
   "metadata": {},
   "source": [
    "## KNN model"
   ]
  },
  {
   "cell_type": "code",
   "execution_count": 53,
   "id": "63b02395-e011-42df-b192-2b28d47019db",
   "metadata": {},
   "outputs": [],
   "source": [
    "from sklearn.neighbors import KNeighborsClassifier\n",
    "from sklearn.metrics import accuracy_score\n",
    "def evaluation(train_sizes, neighbors):\n",
    "    for train in train_sizes:\n",
    "        for neighbor in neighbors:\n",
    "            X_train, X_test, y_train, y_test = train_test_split(X, y, train_size=train, random_state=42)\n",
    "            knn = KNeighborsClassifier(n_neighbors=neighbor)\n",
    "            knn.fit(X_train, y_train)\n",
    "            y_pred = knn.predict(X_test)\n",
    "            accuracy = accuracy_score(y_test, y_pred)\n",
    "            precision = precision_score(y_test, y_pred)\n",
    "            print(f\"Training Size: {train*100}%, neighbors: {neighbor}, Accuracy: {accuracy*100} % and Precision: {precision*100} %\")"
   ]
  },
  {
   "cell_type": "code",
   "execution_count": 54,
   "id": "02bdee08-db94-4710-bdfe-e596a8336938",
   "metadata": {},
   "outputs": [
    {
     "name": "stdout",
     "output_type": "stream",
     "text": [
      "Training Size: 25.0%, neighbors: 5, Accuracy: 71.18055555555556 % and Precision: 59.32203389830508 %\n",
      "Training Size: 25.0%, neighbors: 7, Accuracy: 71.52777777777779 % and Precision: 60.35502958579882 %\n",
      "Training Size: 30.0%, neighbors: 5, Accuracy: 69.88847583643123 % and Precision: 58.38509316770186 %\n",
      "Training Size: 30.0%, neighbors: 7, Accuracy: 70.4460966542751 % and Precision: 59.86842105263158 %\n"
     ]
    }
   ],
   "source": [
    "train_sizes = [0.25, 0.30]\n",
    "neighbors = [5,7]\n",
    "evaluation(train_sizes, neighbors)"
   ]
  },
  {
   "cell_type": "code",
   "execution_count": null,
   "id": "08efa9fe-0cfa-4c08-9729-c969032d350b",
   "metadata": {},
   "outputs": [],
   "source": []
  }
 ],
 "metadata": {
  "kernelspec": {
   "display_name": "Python 3 (ipykernel)",
   "language": "python",
   "name": "python3"
  },
  "language_info": {
   "codemirror_mode": {
    "name": "ipython",
    "version": 3
   },
   "file_extension": ".py",
   "mimetype": "text/x-python",
   "name": "python",
   "nbconvert_exporter": "python",
   "pygments_lexer": "ipython3",
   "version": "3.12.4"
  }
 },
 "nbformat": 4,
 "nbformat_minor": 5
}
